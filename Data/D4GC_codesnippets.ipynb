{
  "nbformat": 4,
  "nbformat_minor": 0,
  "metadata": {
    "colab": {
      "name": "Code Snippets.ipynb",
      "provenance": []
    },
    "kernelspec": {
      "name": "python3",
      "display_name": "Python 3"
    },
    "language_info": {
      "name": "python"
    }
  },
  "cells": [
    {
      "cell_type": "markdown",
      "metadata": {
        "id": "f-tzzkhXZzKZ"
      },
      "source": [
        "###You may want to use the following examples to import and merge the dataset."
      ]
    },
    {
      "cell_type": "code",
      "metadata": {
        "id": "Yv2LYD34MijZ"
      },
      "source": [
        "import numpy as np\n",
        "import pandas as pd\n",
        "import datetime as dt\n",
        "import matplotlib.pyplot as plt"
      ],
      "execution_count": 2,
      "outputs": []
    },
    {
      "cell_type": "markdown",
      "metadata": {
        "id": "3_iDTa2PaMiH"
      },
      "source": [
        "Import datasets with country names as the index column"
      ]
    },
    {
      "cell_type": "code",
      "metadata": {
        "id": "WGpCfTqWPySL",
        "colab": {
          "base_uri": "https://localhost:8080/",
          "height": 86
        },
        "cellView": "code",
        "outputId": "9a389dd1-b22d-449e-b2af-fa1a7e3a44c9"
      },
      "source": [
        "'''dataset1 = pd.read_csv('/content/drive/Shareddrives/D4GC/The Challenge/Datasets/Dataset 1 - Climate risks', index_col = 'country')\n",
        "dataset2 = pd.read_csv('/content/drive/Shareddrives/D4GC/The Challenge/Datasets/Dataset 2 - Sea level change.csv', index_col = 'country')\n",
        "dataset3 = pd.read_csv('/content/drive/Shareddrives/D4GC/The Challenge/Datasets/Dataset 3 - Economic & Demographic Indicators.csv', index_col = 'country')\n",
        "dataset4 = pd.read_csv('/content/drive/Shareddrives/D4GC/The Challenge/Datasets/Dataset 4 - Emissions & Energy Consumption.csv', index_col = 'country')\n",
        "dataset5 = pd.read_csv('/content/drive/Shareddrives/D4GC/The Challenge/Datasets/Dataset 5 - ISSP survey.csv', index_col = 'country')'''"
      ],
      "execution_count": 3,
      "outputs": [
        {
          "output_type": "execute_result",
          "data": {
            "application/vnd.google.colaboratory.intrinsic+json": {
              "type": "string"
            },
            "text/plain": [
              "\"dataset1 = pd.read_csv('/content/drive/Shareddrives/D4GC/The Challenge/Datasets/Dataset 1 - Climate risks', index_col = 'country')\\ndataset2 = pd.read_csv('/content/drive/Shareddrives/D4GC/The Challenge/Datasets/Dataset 2 - Sea level change.csv', index_col = 'country')\\ndataset3 = pd.read_csv('/content/drive/Shareddrives/D4GC/The Challenge/Datasets/Dataset 3 - Economic & Demographic Indicators.csv', index_col = 'country')\\ndataset4 = pd.read_csv('/content/drive/Shareddrives/D4GC/The Challenge/Datasets/Dataset 4 - Emissions & Energy Consumption.csv', index_col = 'country')\\ndataset5 = pd.read_csv('/content/drive/Shareddrives/D4GC/The Challenge/Datasets/Dataset 5 - ISSP Survey.csv', index_col = 'country')\""
            ]
          },
          "metadata": {},
          "execution_count": 3
        }
      ]
    },
    {
      "cell_type": "markdown",
      "metadata": {
        "id": "8TU0K5xqaW_s"
      },
      "source": [
        "Import datasets"
      ]
    },
    {
      "cell_type": "code",
      "metadata": {
        "id": "Cx-o-yCIYvCl"
      },
      "source": [
        "dataset1 = pd.read_csv('/content/drive/Shareddrives/D4GC/The Challenge/Datasets/Dataset 1 - Climate risks.csv')\n",
        "dataset2 = pd.read_csv('/content/drive/Shareddrives/D4GC/The Challenge/Datasets/Dataset 2 - Sea level change.csv')\n",
        "dataset3 = pd.read_csv('/content/drive/Shareddrives/D4GC/The Challenge/Datasets/Dataset 3 - Economic & Demographic Indicators.csv')\n",
        "dataset4 = pd.read_csv('/content/drive/Shareddrives/D4GC/The Challenge/Datasets/Dataset 4 - Emissions & Energy Consumption.csv')\n",
        "dataset5 = pd.read_csv('/content/drive/Shareddrives/D4GC/The Challenge/Datasets/Dataset 5 - ISSP survey.csv')"
      ],
      "execution_count": 9,
      "outputs": []
    },
    {
      "cell_type": "markdown",
      "metadata": {
        "id": "pjefIUQGaboV"
      },
      "source": [
        "Examine dataset 1"
      ]
    },
    {
      "cell_type": "code",
      "metadata": {
        "colab": {
          "base_uri": "https://localhost:8080/"
        },
        "id": "OXnXHmIWQehg",
        "outputId": "7f654d8e-7c9c-427f-e3e2-4744a9ae9836"
      },
      "source": [
        "dataset1.head"
      ],
      "execution_count": 10,
      "outputs": [
        {
          "output_type": "execute_result",
          "data": {
            "text/plain": [
              "<bound method NDFrame.head of             country iso_alpha3  region  ... tos sos  sithick\n",
              "0       Afghanistan        AFG    Asia  ... NaN NaN      NaN\n",
              "1       Afghanistan        AFG    Asia  ... NaN NaN      NaN\n",
              "2       Afghanistan        AFG    Asia  ... NaN NaN      NaN\n",
              "3       Afghanistan        AFG    Asia  ... NaN NaN      NaN\n",
              "4       Afghanistan        AFG    Asia  ... NaN NaN      NaN\n",
              "...             ...        ...     ...  ...  ..  ..      ...\n",
              "265482     Zimbabwe        ZWE  Africa  ... NaN NaN      NaN\n",
              "265483     Zimbabwe        ZWE  Africa  ... NaN NaN      NaN\n",
              "265484     Zimbabwe        ZWE  Africa  ... NaN NaN      NaN\n",
              "265485     Zimbabwe        ZWE  Africa  ... NaN NaN      NaN\n",
              "265486     Zimbabwe        ZWE  Africa  ... NaN NaN      NaN\n",
              "\n",
              "[265487 rows x 13 columns]>"
            ]
          },
          "metadata": {},
          "execution_count": 10
        }
      ]
    },
    {
      "cell_type": "code",
      "metadata": {
        "id": "Ie_my7FDVqGR"
      },
      "source": [
        "# Add a year column for referencing\n",
        "\n",
        "dataset1['date'] =  pd.to_datetime(dataset1['yearmonth'], infer_datetime_format=True)\n",
        "dataset1['yearmonth'] = dataset1['date'].dt.to_period('Y')\n",
        "dataset1.drop('date', axis=1, inplace=True)"
      ],
      "execution_count": 12,
      "outputs": []
    },
    {
      "cell_type": "markdown",
      "metadata": {
        "id": "umgoCvpTajtz"
      },
      "source": [
        "Make a list of columns in dataset 1"
      ]
    },
    {
      "cell_type": "code",
      "metadata": {
        "colab": {
          "base_uri": "https://localhost:8080/"
        },
        "id": "IBHB0TAPUvnX",
        "outputId": "3d790b4d-1d97-4afb-d316-82db0de766ad"
      },
      "source": [
        "data1_columns = dataset1.columns.tolist()\n",
        "data1_columns"
      ],
      "execution_count": 13,
      "outputs": [
        {
          "output_type": "execute_result",
          "data": {
            "text/plain": [
              "['country',\n",
              " 'iso_alpha3',\n",
              " 'region',\n",
              " 'sub_region',\n",
              " 'yearmonth',\n",
              " 'tas',\n",
              " 'sfcwind',\n",
              " 'pr',\n",
              " 'prsn',\n",
              " 'evspsbl',\n",
              " 'tos',\n",
              " 'sos',\n",
              " 'sithick',\n",
              " 'year']"
            ]
          },
          "metadata": {},
          "execution_count": 13
        }
      ]
    },
    {
      "cell_type": "markdown",
      "metadata": {
        "id": "SmPd2qQZcKmK"
      },
      "source": [
        "Examine dataset 2"
      ]
    },
    {
      "cell_type": "code",
      "metadata": {
        "colab": {
          "base_uri": "https://localhost:8080/"
        },
        "id": "aWQnhVZOQifR",
        "outputId": "dc26b591-ebbf-4c00-c03c-2441fe722861"
      },
      "source": [
        "dataset2.head"
      ],
      "execution_count": 14,
      "outputs": [
        {
          "output_type": "execute_result",
          "data": {
            "text/plain": [
              "<bound method NDFrame.head of       country iso_alpha3  ... pop_hi_tide pop_coast_flood\n",
              "0     Albania        ALB  ...        0.05            0.06\n",
              "1     Albania        ALB  ...         NaN             NaN\n",
              "2     Albania        ALB  ...         NaN             NaN\n",
              "3     Albania        ALB  ...        0.06            0.09\n",
              "4     Albania        ALB  ...         NaN             NaN\n",
              "...       ...        ...  ...         ...             ...\n",
              "4951    Yemen        YEM  ...         NaN             NaN\n",
              "4952    Yemen        YEM  ...         NaN             NaN\n",
              "4953    Yemen        YEM  ...         NaN             NaN\n",
              "4954    Yemen        YEM  ...         NaN             NaN\n",
              "4955    Yemen        YEM  ...         NaN             NaN\n",
              "\n",
              "[4956 rows x 9 columns]>"
            ]
          },
          "metadata": {},
          "execution_count": 14
        }
      ]
    },
    {
      "cell_type": "markdown",
      "metadata": {
        "id": "NvSstNiTasGE"
      },
      "source": [
        "Make a list of columns in dataset 2"
      ]
    },
    {
      "cell_type": "code",
      "metadata": {
        "colab": {
          "base_uri": "https://localhost:8080/"
        },
        "id": "YJpm1IjXUyoV",
        "outputId": "7571d5fa-a308-40c8-e1b7-3b3a15600733"
      },
      "source": [
        "data2_columns = dataset2.columns.tolist()\n",
        "data2_columns"
      ],
      "execution_count": 15,
      "outputs": [
        {
          "output_type": "execute_result",
          "data": {
            "text/plain": [
              "['country',\n",
              " 'iso_alpha3',\n",
              " 'region',\n",
              " 'sub_region',\n",
              " 'year',\n",
              " 'avg_sea_level_change_rate',\n",
              " 'avg_sea_level_change_value',\n",
              " 'pop_hi_tide',\n",
              " 'pop_coast_flood']"
            ]
          },
          "metadata": {},
          "execution_count": 15
        }
      ]
    },
    {
      "cell_type": "markdown",
      "metadata": {
        "id": "kFj3mR96bITo"
      },
      "source": [
        "Examine dataset 3"
      ]
    },
    {
      "cell_type": "code",
      "metadata": {
        "colab": {
          "base_uri": "https://localhost:8080/"
        },
        "id": "uPjDJjghQlHM",
        "outputId": "ba16a579-35bd-492b-b6cb-7e13c0b0339f"
      },
      "source": [
        "dataset3.head"
      ],
      "execution_count": 16,
      "outputs": [
        {
          "output_type": "execute_result",
          "data": {
            "text/plain": [
              "<bound method NDFrame.head of            country iso_alpha3  ... manu_percent_gdp serv_percent_gdp\n",
              "0      Afghanistan        AFG  ...              NaN              NaN\n",
              "1      Afghanistan        AFG  ...              NaN              NaN\n",
              "2      Afghanistan        AFG  ...              NaN              NaN\n",
              "3      Afghanistan        AFG  ...              NaN              NaN\n",
              "4      Afghanistan        AFG  ...              NaN              NaN\n",
              "...            ...        ...  ...              ...              ...\n",
              "28774     Zimbabwe        ZWE  ...              NaN              NaN\n",
              "28775     Zimbabwe        ZWE  ...              NaN              NaN\n",
              "28776     Zimbabwe        ZWE  ...              NaN              NaN\n",
              "28777     Zimbabwe        ZWE  ...              NaN              NaN\n",
              "28778     Zimbabwe        ZWE  ...              NaN              NaN\n",
              "\n",
              "[28779 rows x 13 columns]>"
            ]
          },
          "metadata": {},
          "execution_count": 16
        }
      ]
    },
    {
      "cell_type": "markdown",
      "metadata": {
        "id": "5itZ-1EmatlC"
      },
      "source": [
        "Make a list of columns in dataset 3"
      ]
    },
    {
      "cell_type": "code",
      "metadata": {
        "colab": {
          "base_uri": "https://localhost:8080/"
        },
        "id": "7uWQZMLsU4yW",
        "outputId": "89991400-5bd4-4c16-8b5f-b34ea0b8ad91"
      },
      "source": [
        "data3_columns = dataset3.columns.tolist()\n",
        "data3_columns"
      ],
      "execution_count": 17,
      "outputs": [
        {
          "output_type": "execute_result",
          "data": {
            "text/plain": [
              "['country',\n",
              " 'iso_alpha3',\n",
              " 'region',\n",
              " 'sub_region',\n",
              " 'year',\n",
              " 'population',\n",
              " 'real_gdp',\n",
              " 'gdp_per_capita',\n",
              " 'agri_percent_gdp',\n",
              " 'exp_percent_gdp',\n",
              " 'ind_percent_gdp',\n",
              " 'manu_percent_gdp',\n",
              " 'serv_percent_gdp']"
            ]
          },
          "metadata": {},
          "execution_count": 17
        }
      ]
    },
    {
      "cell_type": "markdown",
      "metadata": {
        "id": "F1b4Hd0abKTL"
      },
      "source": [
        "Examine dataset 4"
      ]
    },
    {
      "cell_type": "code",
      "metadata": {
        "colab": {
          "base_uri": "https://localhost:8080/"
        },
        "id": "S5lCKtl4Qmyq",
        "outputId": "221c3782-e3de-47b3-804f-01bdb94eaaf7"
      },
      "source": [
        "dataset4.head"
      ],
      "execution_count": 18,
      "outputs": [
        {
          "output_type": "execute_result",
          "data": {
            "text/plain": [
              "<bound method NDFrame.head of            country iso_alpha3  ... energy_per_capita energy_per_gdp\n",
              "0      Afghanistan        AFG  ...               NaN            NaN\n",
              "1      Afghanistan        AFG  ...               NaN            NaN\n",
              "2      Afghanistan        AFG  ...               NaN            NaN\n",
              "3      Afghanistan        AFG  ...               NaN            NaN\n",
              "4      Afghanistan        AFG  ...               NaN            NaN\n",
              "...            ...        ...  ...               ...            ...\n",
              "11655     Zimbabwe        ZWE  ...          4027.628          2.223\n",
              "11656     Zimbabwe        ZWE  ...          3385.574          1.889\n",
              "11657     Zimbabwe        ZWE  ...               NaN            NaN\n",
              "11658     Zimbabwe        ZWE  ...               NaN            NaN\n",
              "11659     Zimbabwe        ZWE  ...               NaN            NaN\n",
              "\n",
              "[11660 rows x 15 columns]>"
            ]
          },
          "metadata": {},
          "execution_count": 18
        }
      ]
    },
    {
      "cell_type": "markdown",
      "metadata": {
        "id": "DEHFqsf1awc6"
      },
      "source": [
        "Make a list of columns in dataset 4"
      ]
    },
    {
      "cell_type": "code",
      "metadata": {
        "colab": {
          "base_uri": "https://localhost:8080/"
        },
        "id": "W2HNTAgxU-or",
        "outputId": "f6c1c5d7-7aa3-4b88-f842-4750a20caa6b"
      },
      "source": [
        "data4_columns = dataset4.columns.tolist()\n",
        "data4_columns"
      ],
      "execution_count": 19,
      "outputs": [
        {
          "output_type": "execute_result",
          "data": {
            "text/plain": [
              "['country',\n",
              " 'iso_alpha3',\n",
              " 'region',\n",
              " 'sub_region',\n",
              " 'year',\n",
              " 'co2',\n",
              " 'co2_growth_abs',\n",
              " 'co2_per_capita',\n",
              " 'share_global_co2',\n",
              " 'co2_per_gdp',\n",
              " 'total_ghg',\n",
              " 'ghg_per_capita',\n",
              " 'primary_energy_consumption',\n",
              " 'energy_per_capita',\n",
              " 'energy_per_gdp']"
            ]
          },
          "metadata": {},
          "execution_count": 19
        }
      ]
    },
    {
      "cell_type": "markdown",
      "metadata": {
        "id": "MnjF6hkEbNAo"
      },
      "source": [
        "Examine dataset 5"
      ]
    },
    {
      "cell_type": "code",
      "metadata": {
        "colab": {
          "base_uri": "https://localhost:8080/"
        },
        "id": "e2DFY7btQn47",
        "outputId": "85503935-8a85-4ff9-f968-ee3bb98e492f"
      },
      "source": [
        "dataset5.head"
      ],
      "execution_count": 20,
      "outputs": [
        {
          "output_type": "execute_result",
          "data": {
            "text/plain": [
              "<bound method NDFrame.head of              country iso_alpha3    region  ... how_peo  mem_env  care_env\n",
              "0          Argentina        ARG  Americas  ...       0        0         1\n",
              "1          Argentina        ARG  Americas  ...       2        0         1\n",
              "2          Argentina        ARG  Americas  ...       0        0         1\n",
              "3          Argentina        ARG  Americas  ...       2        0         0\n",
              "4          Argentina        ARG  Americas  ...       2        0         0\n",
              "...              ...        ...       ...  ...     ...      ...       ...\n",
              "10105  United States        USA  Americas  ...       0        0         1\n",
              "10106  United States        USA  Americas  ...       2        0         0\n",
              "10107  United States        USA  Americas  ...       2        0         1\n",
              "10108  United States        USA  Americas  ...       2        0         1\n",
              "10109  United States        USA  Americas  ...       1        0         1\n",
              "\n",
              "[10110 rows x 18 columns]>"
            ]
          },
          "metadata": {},
          "execution_count": 20
        }
      ]
    },
    {
      "cell_type": "markdown",
      "metadata": {
        "id": "etXvIyjgayg2"
      },
      "source": [
        "Make a list of columns in dataset 5"
      ]
    },
    {
      "cell_type": "code",
      "metadata": {
        "id": "QVv_6RcbVDJk",
        "colab": {
          "base_uri": "https://localhost:8080/"
        },
        "outputId": "88a4d54c-93ad-44cb-fc45-2aa05f677f59"
      },
      "source": [
        "data5_columns = dataset5.columns.tolist()\n",
        "data5_columns"
      ],
      "execution_count": 21,
      "outputs": [
        {
          "output_type": "execute_result",
          "data": {
            "text/plain": [
              "['country',\n",
              " 'iso_alpha3',\n",
              " 'region',\n",
              " 'sub_region',\n",
              " 'exag_env',\n",
              " 'climate_crisis',\n",
              " 'protect_env',\n",
              " 'sex',\n",
              " 'age',\n",
              " 'educyrs',\n",
              " 'degree',\n",
              " 'soc_rank',\n",
              " 'gov_peo',\n",
              " 'gov_bus',\n",
              " 'how_bus',\n",
              " 'how_peo',\n",
              " 'mem_env',\n",
              " 'care_env']"
            ]
          },
          "metadata": {},
          "execution_count": 21
        }
      ]
    },
    {
      "cell_type": "markdown",
      "metadata": {
        "id": "DxVJJOsGIdTa"
      },
      "source": [
        "Merging the datasets 2, 3 and 4."
      ]
    },
    {
      "cell_type": "code",
      "metadata": {
        "colab": {
          "base_uri": "https://localhost:8080/",
          "height": 521
        },
        "id": "O9Re3f58DQ0u",
        "outputId": "076f8d4e-921f-4ffc-c83e-3c5894211815"
      },
      "source": [
        "merged_data = dataset2.merge(dataset3, on=['country', 'year'], how='left')\n",
        "merged_data"
      ],
      "execution_count": 22,
      "outputs": [
        {
          "output_type": "execute_result",
          "data": {
            "text/html": [
              "<div>\n",
              "<style scoped>\n",
              "    .dataframe tbody tr th:only-of-type {\n",
              "        vertical-align: middle;\n",
              "    }\n",
              "\n",
              "    .dataframe tbody tr th {\n",
              "        vertical-align: top;\n",
              "    }\n",
              "\n",
              "    .dataframe thead th {\n",
              "        text-align: right;\n",
              "    }\n",
              "</style>\n",
              "<table border=\"1\" class=\"dataframe\">\n",
              "  <thead>\n",
              "    <tr style=\"text-align: right;\">\n",
              "      <th></th>\n",
              "      <th>country</th>\n",
              "      <th>iso_alpha3_x</th>\n",
              "      <th>region_x</th>\n",
              "      <th>sub_region_x</th>\n",
              "      <th>year</th>\n",
              "      <th>avg_sea_level_change_rate</th>\n",
              "      <th>avg_sea_level_change_value</th>\n",
              "      <th>pop_hi_tide</th>\n",
              "      <th>pop_coast_flood</th>\n",
              "      <th>iso_alpha3_y</th>\n",
              "      <th>region_y</th>\n",
              "      <th>sub_region_y</th>\n",
              "      <th>population</th>\n",
              "      <th>real_gdp</th>\n",
              "      <th>gdp_per_capita</th>\n",
              "      <th>agri_percent_gdp</th>\n",
              "      <th>exp_percent_gdp</th>\n",
              "      <th>ind_percent_gdp</th>\n",
              "      <th>manu_percent_gdp</th>\n",
              "      <th>serv_percent_gdp</th>\n",
              "    </tr>\n",
              "  </thead>\n",
              "  <tbody>\n",
              "    <tr>\n",
              "      <th>0</th>\n",
              "      <td>Albania</td>\n",
              "      <td>ALB</td>\n",
              "      <td>Europe</td>\n",
              "      <td>Southern Europe</td>\n",
              "      <td>2020</td>\n",
              "      <td>3.87</td>\n",
              "      <td>59.33</td>\n",
              "      <td>0.05</td>\n",
              "      <td>0.06</td>\n",
              "      <td>ALB</td>\n",
              "      <td>Europe</td>\n",
              "      <td>Southern Europe</td>\n",
              "      <td>2837743.0</td>\n",
              "      <td>1.479883e+10</td>\n",
              "      <td>5215.0</td>\n",
              "      <td>19.252098</td>\n",
              "      <td>23.249921</td>\n",
              "      <td>19.704999</td>\n",
              "      <td>6.211737</td>\n",
              "      <td>48.428285</td>\n",
              "    </tr>\n",
              "    <tr>\n",
              "      <th>1</th>\n",
              "      <td>Albania</td>\n",
              "      <td>ALB</td>\n",
              "      <td>Europe</td>\n",
              "      <td>Southern Europe</td>\n",
              "      <td>2030</td>\n",
              "      <td>3.87</td>\n",
              "      <td>100.67</td>\n",
              "      <td>NaN</td>\n",
              "      <td>NaN</td>\n",
              "      <td>ALB</td>\n",
              "      <td>Europe</td>\n",
              "      <td>Southern Europe</td>\n",
              "      <td>2786972.0</td>\n",
              "      <td>1.651560e+10</td>\n",
              "      <td>5926.0</td>\n",
              "      <td>NaN</td>\n",
              "      <td>NaN</td>\n",
              "      <td>NaN</td>\n",
              "      <td>NaN</td>\n",
              "      <td>NaN</td>\n",
              "    </tr>\n",
              "    <tr>\n",
              "      <th>2</th>\n",
              "      <td>Albania</td>\n",
              "      <td>ALB</td>\n",
              "      <td>Europe</td>\n",
              "      <td>Southern Europe</td>\n",
              "      <td>2040</td>\n",
              "      <td>4.60</td>\n",
              "      <td>141.33</td>\n",
              "      <td>NaN</td>\n",
              "      <td>NaN</td>\n",
              "      <td>ALB</td>\n",
              "      <td>Europe</td>\n",
              "      <td>Southern Europe</td>\n",
              "      <td>2634385.0</td>\n",
              "      <td>1.777946e+10</td>\n",
              "      <td>6749.0</td>\n",
              "      <td>NaN</td>\n",
              "      <td>NaN</td>\n",
              "      <td>NaN</td>\n",
              "      <td>NaN</td>\n",
              "      <td>NaN</td>\n",
              "    </tr>\n",
              "    <tr>\n",
              "      <th>3</th>\n",
              "      <td>Albania</td>\n",
              "      <td>ALB</td>\n",
              "      <td>Europe</td>\n",
              "      <td>Southern Europe</td>\n",
              "      <td>2050</td>\n",
              "      <td>5.57</td>\n",
              "      <td>201.00</td>\n",
              "      <td>0.06</td>\n",
              "      <td>0.09</td>\n",
              "      <td>ALB</td>\n",
              "      <td>Europe</td>\n",
              "      <td>Southern Europe</td>\n",
              "      <td>2424052.0</td>\n",
              "      <td>1.830159e+10</td>\n",
              "      <td>7550.0</td>\n",
              "      <td>NaN</td>\n",
              "      <td>NaN</td>\n",
              "      <td>NaN</td>\n",
              "      <td>NaN</td>\n",
              "      <td>NaN</td>\n",
              "    </tr>\n",
              "    <tr>\n",
              "      <th>4</th>\n",
              "      <td>Albania</td>\n",
              "      <td>ALB</td>\n",
              "      <td>Europe</td>\n",
              "      <td>Southern Europe</td>\n",
              "      <td>2060</td>\n",
              "      <td>6.03</td>\n",
              "      <td>258.67</td>\n",
              "      <td>NaN</td>\n",
              "      <td>NaN</td>\n",
              "      <td>ALB</td>\n",
              "      <td>Europe</td>\n",
              "      <td>Southern Europe</td>\n",
              "      <td>2190904.0</td>\n",
              "      <td>NaN</td>\n",
              "      <td>NaN</td>\n",
              "      <td>NaN</td>\n",
              "      <td>NaN</td>\n",
              "      <td>NaN</td>\n",
              "      <td>NaN</td>\n",
              "      <td>NaN</td>\n",
              "    </tr>\n",
              "    <tr>\n",
              "      <th>...</th>\n",
              "      <td>...</td>\n",
              "      <td>...</td>\n",
              "      <td>...</td>\n",
              "      <td>...</td>\n",
              "      <td>...</td>\n",
              "      <td>...</td>\n",
              "      <td>...</td>\n",
              "      <td>...</td>\n",
              "      <td>...</td>\n",
              "      <td>...</td>\n",
              "      <td>...</td>\n",
              "      <td>...</td>\n",
              "      <td>...</td>\n",
              "      <td>...</td>\n",
              "      <td>...</td>\n",
              "      <td>...</td>\n",
              "      <td>...</td>\n",
              "      <td>...</td>\n",
              "      <td>...</td>\n",
              "      <td>...</td>\n",
              "    </tr>\n",
              "    <tr>\n",
              "      <th>4952</th>\n",
              "      <td>Yemen</td>\n",
              "      <td>YEM</td>\n",
              "      <td>Asia</td>\n",
              "      <td>Western Asia</td>\n",
              "      <td>2110</td>\n",
              "      <td>6.47</td>\n",
              "      <td>593.30</td>\n",
              "      <td>NaN</td>\n",
              "      <td>NaN</td>\n",
              "      <td>NaN</td>\n",
              "      <td>NaN</td>\n",
              "      <td>NaN</td>\n",
              "      <td>NaN</td>\n",
              "      <td>NaN</td>\n",
              "      <td>NaN</td>\n",
              "      <td>NaN</td>\n",
              "      <td>NaN</td>\n",
              "      <td>NaN</td>\n",
              "      <td>NaN</td>\n",
              "      <td>NaN</td>\n",
              "    </tr>\n",
              "    <tr>\n",
              "      <th>4953</th>\n",
              "      <td>Yemen</td>\n",
              "      <td>YEM</td>\n",
              "      <td>Asia</td>\n",
              "      <td>Western Asia</td>\n",
              "      <td>2120</td>\n",
              "      <td>6.40</td>\n",
              "      <td>663.76</td>\n",
              "      <td>NaN</td>\n",
              "      <td>NaN</td>\n",
              "      <td>NaN</td>\n",
              "      <td>NaN</td>\n",
              "      <td>NaN</td>\n",
              "      <td>NaN</td>\n",
              "      <td>NaN</td>\n",
              "      <td>NaN</td>\n",
              "      <td>NaN</td>\n",
              "      <td>NaN</td>\n",
              "      <td>NaN</td>\n",
              "      <td>NaN</td>\n",
              "      <td>NaN</td>\n",
              "    </tr>\n",
              "    <tr>\n",
              "      <th>4954</th>\n",
              "      <td>Yemen</td>\n",
              "      <td>YEM</td>\n",
              "      <td>Asia</td>\n",
              "      <td>Western Asia</td>\n",
              "      <td>2130</td>\n",
              "      <td>6.31</td>\n",
              "      <td>733.33</td>\n",
              "      <td>NaN</td>\n",
              "      <td>NaN</td>\n",
              "      <td>NaN</td>\n",
              "      <td>NaN</td>\n",
              "      <td>NaN</td>\n",
              "      <td>NaN</td>\n",
              "      <td>NaN</td>\n",
              "      <td>NaN</td>\n",
              "      <td>NaN</td>\n",
              "      <td>NaN</td>\n",
              "      <td>NaN</td>\n",
              "      <td>NaN</td>\n",
              "      <td>NaN</td>\n",
              "    </tr>\n",
              "    <tr>\n",
              "      <th>4955</th>\n",
              "      <td>Yemen</td>\n",
              "      <td>YEM</td>\n",
              "      <td>Asia</td>\n",
              "      <td>Western Asia</td>\n",
              "      <td>2140</td>\n",
              "      <td>6.21</td>\n",
              "      <td>802.03</td>\n",
              "      <td>NaN</td>\n",
              "      <td>NaN</td>\n",
              "      <td>NaN</td>\n",
              "      <td>NaN</td>\n",
              "      <td>NaN</td>\n",
              "      <td>NaN</td>\n",
              "      <td>NaN</td>\n",
              "      <td>NaN</td>\n",
              "      <td>NaN</td>\n",
              "      <td>NaN</td>\n",
              "      <td>NaN</td>\n",
              "      <td>NaN</td>\n",
              "      <td>NaN</td>\n",
              "    </tr>\n",
              "    <tr>\n",
              "      <th>4956</th>\n",
              "      <td>Yemen</td>\n",
              "      <td>YEM</td>\n",
              "      <td>Asia</td>\n",
              "      <td>Western Asia</td>\n",
              "      <td>2150</td>\n",
              "      <td>6.09</td>\n",
              "      <td>869.27</td>\n",
              "      <td>NaN</td>\n",
              "      <td>NaN</td>\n",
              "      <td>NaN</td>\n",
              "      <td>NaN</td>\n",
              "      <td>NaN</td>\n",
              "      <td>NaN</td>\n",
              "      <td>NaN</td>\n",
              "      <td>NaN</td>\n",
              "      <td>NaN</td>\n",
              "      <td>NaN</td>\n",
              "      <td>NaN</td>\n",
              "      <td>NaN</td>\n",
              "      <td>NaN</td>\n",
              "    </tr>\n",
              "  </tbody>\n",
              "</table>\n",
              "<p>4957 rows × 20 columns</p>\n",
              "</div>"
            ],
            "text/plain": [
              "      country iso_alpha3_x  ... manu_percent_gdp serv_percent_gdp\n",
              "0     Albania          ALB  ...         6.211737        48.428285\n",
              "1     Albania          ALB  ...              NaN              NaN\n",
              "2     Albania          ALB  ...              NaN              NaN\n",
              "3     Albania          ALB  ...              NaN              NaN\n",
              "4     Albania          ALB  ...              NaN              NaN\n",
              "...       ...          ...  ...              ...              ...\n",
              "4952    Yemen          YEM  ...              NaN              NaN\n",
              "4953    Yemen          YEM  ...              NaN              NaN\n",
              "4954    Yemen          YEM  ...              NaN              NaN\n",
              "4955    Yemen          YEM  ...              NaN              NaN\n",
              "4956    Yemen          YEM  ...              NaN              NaN\n",
              "\n",
              "[4957 rows x 20 columns]"
            ]
          },
          "metadata": {},
          "execution_count": 22
        }
      ]
    },
    {
      "cell_type": "code",
      "metadata": {
        "id": "wjEL_xWsSDWM",
        "colab": {
          "base_uri": "https://localhost:8080/",
          "height": 605
        },
        "outputId": "e2bca532-5c92-45f9-d9f6-0961f8aa041b"
      },
      "source": [
        "merged_data1 = dataset2.merge(dataset4, on=['country', 'year'], how='outer')\n",
        "merged_data1"
      ],
      "execution_count": 23,
      "outputs": [
        {
          "output_type": "execute_result",
          "data": {
            "text/html": [
              "<div>\n",
              "<style scoped>\n",
              "    .dataframe tbody tr th:only-of-type {\n",
              "        vertical-align: middle;\n",
              "    }\n",
              "\n",
              "    .dataframe tbody tr th {\n",
              "        vertical-align: top;\n",
              "    }\n",
              "\n",
              "    .dataframe thead th {\n",
              "        text-align: right;\n",
              "    }\n",
              "</style>\n",
              "<table border=\"1\" class=\"dataframe\">\n",
              "  <thead>\n",
              "    <tr style=\"text-align: right;\">\n",
              "      <th></th>\n",
              "      <th>country</th>\n",
              "      <th>iso_alpha3_x</th>\n",
              "      <th>region_x</th>\n",
              "      <th>sub_region_x</th>\n",
              "      <th>year</th>\n",
              "      <th>avg_sea_level_change_rate</th>\n",
              "      <th>avg_sea_level_change_value</th>\n",
              "      <th>pop_hi_tide</th>\n",
              "      <th>pop_coast_flood</th>\n",
              "      <th>iso_alpha3_y</th>\n",
              "      <th>region_y</th>\n",
              "      <th>sub_region_y</th>\n",
              "      <th>co2</th>\n",
              "      <th>co2_growth_abs</th>\n",
              "      <th>co2_per_capita</th>\n",
              "      <th>share_global_co2</th>\n",
              "      <th>co2_per_gdp</th>\n",
              "      <th>total_ghg</th>\n",
              "      <th>ghg_per_capita</th>\n",
              "      <th>primary_energy_consumption</th>\n",
              "      <th>energy_per_capita</th>\n",
              "      <th>energy_per_gdp</th>\n",
              "    </tr>\n",
              "  </thead>\n",
              "  <tbody>\n",
              "    <tr>\n",
              "      <th>0</th>\n",
              "      <td>Albania</td>\n",
              "      <td>ALB</td>\n",
              "      <td>Europe</td>\n",
              "      <td>Southern Europe</td>\n",
              "      <td>2020</td>\n",
              "      <td>3.87</td>\n",
              "      <td>59.33</td>\n",
              "      <td>0.05</td>\n",
              "      <td>0.06</td>\n",
              "      <td>NaN</td>\n",
              "      <td>NaN</td>\n",
              "      <td>NaN</td>\n",
              "      <td>NaN</td>\n",
              "      <td>NaN</td>\n",
              "      <td>NaN</td>\n",
              "      <td>NaN</td>\n",
              "      <td>NaN</td>\n",
              "      <td>NaN</td>\n",
              "      <td>NaN</td>\n",
              "      <td>NaN</td>\n",
              "      <td>NaN</td>\n",
              "      <td>NaN</td>\n",
              "    </tr>\n",
              "    <tr>\n",
              "      <th>1</th>\n",
              "      <td>Albania</td>\n",
              "      <td>ALB</td>\n",
              "      <td>Europe</td>\n",
              "      <td>Southern Europe</td>\n",
              "      <td>2030</td>\n",
              "      <td>3.87</td>\n",
              "      <td>100.67</td>\n",
              "      <td>NaN</td>\n",
              "      <td>NaN</td>\n",
              "      <td>NaN</td>\n",
              "      <td>NaN</td>\n",
              "      <td>NaN</td>\n",
              "      <td>NaN</td>\n",
              "      <td>NaN</td>\n",
              "      <td>NaN</td>\n",
              "      <td>NaN</td>\n",
              "      <td>NaN</td>\n",
              "      <td>NaN</td>\n",
              "      <td>NaN</td>\n",
              "      <td>NaN</td>\n",
              "      <td>NaN</td>\n",
              "      <td>NaN</td>\n",
              "    </tr>\n",
              "    <tr>\n",
              "      <th>2</th>\n",
              "      <td>Albania</td>\n",
              "      <td>ALB</td>\n",
              "      <td>Europe</td>\n",
              "      <td>Southern Europe</td>\n",
              "      <td>2040</td>\n",
              "      <td>4.60</td>\n",
              "      <td>141.33</td>\n",
              "      <td>NaN</td>\n",
              "      <td>NaN</td>\n",
              "      <td>NaN</td>\n",
              "      <td>NaN</td>\n",
              "      <td>NaN</td>\n",
              "      <td>NaN</td>\n",
              "      <td>NaN</td>\n",
              "      <td>NaN</td>\n",
              "      <td>NaN</td>\n",
              "      <td>NaN</td>\n",
              "      <td>NaN</td>\n",
              "      <td>NaN</td>\n",
              "      <td>NaN</td>\n",
              "      <td>NaN</td>\n",
              "      <td>NaN</td>\n",
              "    </tr>\n",
              "    <tr>\n",
              "      <th>3</th>\n",
              "      <td>Albania</td>\n",
              "      <td>ALB</td>\n",
              "      <td>Europe</td>\n",
              "      <td>Southern Europe</td>\n",
              "      <td>2050</td>\n",
              "      <td>5.57</td>\n",
              "      <td>201.00</td>\n",
              "      <td>0.06</td>\n",
              "      <td>0.09</td>\n",
              "      <td>NaN</td>\n",
              "      <td>NaN</td>\n",
              "      <td>NaN</td>\n",
              "      <td>NaN</td>\n",
              "      <td>NaN</td>\n",
              "      <td>NaN</td>\n",
              "      <td>NaN</td>\n",
              "      <td>NaN</td>\n",
              "      <td>NaN</td>\n",
              "      <td>NaN</td>\n",
              "      <td>NaN</td>\n",
              "      <td>NaN</td>\n",
              "      <td>NaN</td>\n",
              "    </tr>\n",
              "    <tr>\n",
              "      <th>4</th>\n",
              "      <td>Albania</td>\n",
              "      <td>ALB</td>\n",
              "      <td>Europe</td>\n",
              "      <td>Southern Europe</td>\n",
              "      <td>2060</td>\n",
              "      <td>6.03</td>\n",
              "      <td>258.67</td>\n",
              "      <td>NaN</td>\n",
              "      <td>NaN</td>\n",
              "      <td>NaN</td>\n",
              "      <td>NaN</td>\n",
              "      <td>NaN</td>\n",
              "      <td>NaN</td>\n",
              "      <td>NaN</td>\n",
              "      <td>NaN</td>\n",
              "      <td>NaN</td>\n",
              "      <td>NaN</td>\n",
              "      <td>NaN</td>\n",
              "      <td>NaN</td>\n",
              "      <td>NaN</td>\n",
              "      <td>NaN</td>\n",
              "      <td>NaN</td>\n",
              "    </tr>\n",
              "    <tr>\n",
              "      <th>...</th>\n",
              "      <td>...</td>\n",
              "      <td>...</td>\n",
              "      <td>...</td>\n",
              "      <td>...</td>\n",
              "      <td>...</td>\n",
              "      <td>...</td>\n",
              "      <td>...</td>\n",
              "      <td>...</td>\n",
              "      <td>...</td>\n",
              "      <td>...</td>\n",
              "      <td>...</td>\n",
              "      <td>...</td>\n",
              "      <td>...</td>\n",
              "      <td>...</td>\n",
              "      <td>...</td>\n",
              "      <td>...</td>\n",
              "      <td>...</td>\n",
              "      <td>...</td>\n",
              "      <td>...</td>\n",
              "      <td>...</td>\n",
              "      <td>...</td>\n",
              "      <td>...</td>\n",
              "    </tr>\n",
              "    <tr>\n",
              "      <th>16611</th>\n",
              "      <td>Zimbabwe</td>\n",
              "      <td>NaN</td>\n",
              "      <td>NaN</td>\n",
              "      <td>NaN</td>\n",
              "      <td>2015</td>\n",
              "      <td>NaN</td>\n",
              "      <td>NaN</td>\n",
              "      <td>NaN</td>\n",
              "      <td>NaN</td>\n",
              "      <td>ZWE</td>\n",
              "      <td>Africa</td>\n",
              "      <td>Sub-Saharan Africa</td>\n",
              "      <td>12.170</td>\n",
              "      <td>0.198</td>\n",
              "      <td>0.881</td>\n",
              "      <td>0.03</td>\n",
              "      <td>0.579</td>\n",
              "      <td>67.49</td>\n",
              "      <td>4.885</td>\n",
              "      <td>55.642</td>\n",
              "      <td>4027.628</td>\n",
              "      <td>2.223</td>\n",
              "    </tr>\n",
              "    <tr>\n",
              "      <th>16612</th>\n",
              "      <td>Zimbabwe</td>\n",
              "      <td>NaN</td>\n",
              "      <td>NaN</td>\n",
              "      <td>NaN</td>\n",
              "      <td>2016</td>\n",
              "      <td>NaN</td>\n",
              "      <td>NaN</td>\n",
              "      <td>NaN</td>\n",
              "      <td>NaN</td>\n",
              "      <td>ZWE</td>\n",
              "      <td>Africa</td>\n",
              "      <td>Sub-Saharan Africa</td>\n",
              "      <td>10.815</td>\n",
              "      <td>-1.356</td>\n",
              "      <td>0.771</td>\n",
              "      <td>0.03</td>\n",
              "      <td>0.516</td>\n",
              "      <td>65.98</td>\n",
              "      <td>4.703</td>\n",
              "      <td>47.500</td>\n",
              "      <td>3385.574</td>\n",
              "      <td>1.889</td>\n",
              "    </tr>\n",
              "    <tr>\n",
              "      <th>16613</th>\n",
              "      <td>Zimbabwe</td>\n",
              "      <td>NaN</td>\n",
              "      <td>NaN</td>\n",
              "      <td>NaN</td>\n",
              "      <td>2017</td>\n",
              "      <td>NaN</td>\n",
              "      <td>NaN</td>\n",
              "      <td>NaN</td>\n",
              "      <td>NaN</td>\n",
              "      <td>ZWE</td>\n",
              "      <td>Africa</td>\n",
              "      <td>Sub-Saharan Africa</td>\n",
              "      <td>10.247</td>\n",
              "      <td>-0.568</td>\n",
              "      <td>0.720</td>\n",
              "      <td>0.03</td>\n",
              "      <td>0.467</td>\n",
              "      <td>NaN</td>\n",
              "      <td>NaN</td>\n",
              "      <td>NaN</td>\n",
              "      <td>NaN</td>\n",
              "      <td>NaN</td>\n",
              "    </tr>\n",
              "    <tr>\n",
              "      <th>16614</th>\n",
              "      <td>Zimbabwe</td>\n",
              "      <td>NaN</td>\n",
              "      <td>NaN</td>\n",
              "      <td>NaN</td>\n",
              "      <td>2018</td>\n",
              "      <td>NaN</td>\n",
              "      <td>NaN</td>\n",
              "      <td>NaN</td>\n",
              "      <td>NaN</td>\n",
              "      <td>ZWE</td>\n",
              "      <td>Africa</td>\n",
              "      <td>Sub-Saharan Africa</td>\n",
              "      <td>11.341</td>\n",
              "      <td>1.094</td>\n",
              "      <td>0.785</td>\n",
              "      <td>0.03</td>\n",
              "      <td>0.499</td>\n",
              "      <td>NaN</td>\n",
              "      <td>NaN</td>\n",
              "      <td>NaN</td>\n",
              "      <td>NaN</td>\n",
              "      <td>NaN</td>\n",
              "    </tr>\n",
              "    <tr>\n",
              "      <th>16615</th>\n",
              "      <td>Zimbabwe</td>\n",
              "      <td>NaN</td>\n",
              "      <td>NaN</td>\n",
              "      <td>NaN</td>\n",
              "      <td>2019</td>\n",
              "      <td>NaN</td>\n",
              "      <td>NaN</td>\n",
              "      <td>NaN</td>\n",
              "      <td>NaN</td>\n",
              "      <td>ZWE</td>\n",
              "      <td>Africa</td>\n",
              "      <td>Sub-Saharan Africa</td>\n",
              "      <td>10.374</td>\n",
              "      <td>-0.966</td>\n",
              "      <td>0.708</td>\n",
              "      <td>0.03</td>\n",
              "      <td>NaN</td>\n",
              "      <td>NaN</td>\n",
              "      <td>NaN</td>\n",
              "      <td>NaN</td>\n",
              "      <td>NaN</td>\n",
              "      <td>NaN</td>\n",
              "    </tr>\n",
              "  </tbody>\n",
              "</table>\n",
              "<p>16616 rows × 22 columns</p>\n",
              "</div>"
            ],
            "text/plain": [
              "        country iso_alpha3_x  ... energy_per_capita energy_per_gdp\n",
              "0       Albania          ALB  ...               NaN            NaN\n",
              "1       Albania          ALB  ...               NaN            NaN\n",
              "2       Albania          ALB  ...               NaN            NaN\n",
              "3       Albania          ALB  ...               NaN            NaN\n",
              "4       Albania          ALB  ...               NaN            NaN\n",
              "...         ...          ...  ...               ...            ...\n",
              "16611  Zimbabwe          NaN  ...          4027.628          2.223\n",
              "16612  Zimbabwe          NaN  ...          3385.574          1.889\n",
              "16613  Zimbabwe          NaN  ...               NaN            NaN\n",
              "16614  Zimbabwe          NaN  ...               NaN            NaN\n",
              "16615  Zimbabwe          NaN  ...               NaN            NaN\n",
              "\n",
              "[16616 rows x 22 columns]"
            ]
          },
          "metadata": {},
          "execution_count": 23
        }
      ]
    },
    {
      "cell_type": "code",
      "metadata": {
        "colab": {
          "base_uri": "https://localhost:8080/",
          "height": 521
        },
        "id": "VIRz2QhyZXBV",
        "outputId": "47d76ea4-062d-4dc5-8717-1c994529133b"
      },
      "source": [
        "merged_data2 = dataset3.merge(dataset4, on=['country', 'year'], how='left')\n",
        "merged_data2"
      ],
      "execution_count": 24,
      "outputs": [
        {
          "output_type": "execute_result",
          "data": {
            "text/html": [
              "<div>\n",
              "<style scoped>\n",
              "    .dataframe tbody tr th:only-of-type {\n",
              "        vertical-align: middle;\n",
              "    }\n",
              "\n",
              "    .dataframe tbody tr th {\n",
              "        vertical-align: top;\n",
              "    }\n",
              "\n",
              "    .dataframe thead th {\n",
              "        text-align: right;\n",
              "    }\n",
              "</style>\n",
              "<table border=\"1\" class=\"dataframe\">\n",
              "  <thead>\n",
              "    <tr style=\"text-align: right;\">\n",
              "      <th></th>\n",
              "      <th>country</th>\n",
              "      <th>iso_alpha3_x</th>\n",
              "      <th>region_x</th>\n",
              "      <th>sub_region_x</th>\n",
              "      <th>year</th>\n",
              "      <th>population</th>\n",
              "      <th>real_gdp</th>\n",
              "      <th>gdp_per_capita</th>\n",
              "      <th>agri_percent_gdp</th>\n",
              "      <th>exp_percent_gdp</th>\n",
              "      <th>ind_percent_gdp</th>\n",
              "      <th>manu_percent_gdp</th>\n",
              "      <th>serv_percent_gdp</th>\n",
              "      <th>iso_alpha3_y</th>\n",
              "      <th>region_y</th>\n",
              "      <th>sub_region_y</th>\n",
              "      <th>co2</th>\n",
              "      <th>co2_growth_abs</th>\n",
              "      <th>co2_per_capita</th>\n",
              "      <th>share_global_co2</th>\n",
              "      <th>co2_per_gdp</th>\n",
              "      <th>total_ghg</th>\n",
              "      <th>ghg_per_capita</th>\n",
              "      <th>primary_energy_consumption</th>\n",
              "      <th>energy_per_capita</th>\n",
              "      <th>energy_per_gdp</th>\n",
              "    </tr>\n",
              "  </thead>\n",
              "  <tbody>\n",
              "    <tr>\n",
              "      <th>0</th>\n",
              "      <td>Afghanistan</td>\n",
              "      <td>AFG</td>\n",
              "      <td>Asia</td>\n",
              "      <td>Southern Asia</td>\n",
              "      <td>1960</td>\n",
              "      <td>8996967.0</td>\n",
              "      <td>539818020.0</td>\n",
              "      <td>60.0</td>\n",
              "      <td>NaN</td>\n",
              "      <td>4.132233</td>\n",
              "      <td>NaN</td>\n",
              "      <td>NaN</td>\n",
              "      <td>NaN</td>\n",
              "      <td>AFG</td>\n",
              "      <td>Asia</td>\n",
              "      <td>Southern Asia</td>\n",
              "      <td>0.414</td>\n",
              "      <td>0.029</td>\n",
              "      <td>0.046</td>\n",
              "      <td>0.00</td>\n",
              "      <td>0.032</td>\n",
              "      <td>NaN</td>\n",
              "      <td>NaN</td>\n",
              "      <td>NaN</td>\n",
              "      <td>NaN</td>\n",
              "      <td>NaN</td>\n",
              "    </tr>\n",
              "    <tr>\n",
              "      <th>1</th>\n",
              "      <td>Afghanistan</td>\n",
              "      <td>AFG</td>\n",
              "      <td>Asia</td>\n",
              "      <td>Southern Asia</td>\n",
              "      <td>1961</td>\n",
              "      <td>9169406.0</td>\n",
              "      <td>550164360.0</td>\n",
              "      <td>60.0</td>\n",
              "      <td>NaN</td>\n",
              "      <td>4.453443</td>\n",
              "      <td>NaN</td>\n",
              "      <td>NaN</td>\n",
              "      <td>NaN</td>\n",
              "      <td>AFG</td>\n",
              "      <td>Asia</td>\n",
              "      <td>Southern Asia</td>\n",
              "      <td>0.491</td>\n",
              "      <td>0.077</td>\n",
              "      <td>0.054</td>\n",
              "      <td>0.01</td>\n",
              "      <td>0.037</td>\n",
              "      <td>NaN</td>\n",
              "      <td>NaN</td>\n",
              "      <td>NaN</td>\n",
              "      <td>NaN</td>\n",
              "      <td>NaN</td>\n",
              "    </tr>\n",
              "    <tr>\n",
              "      <th>2</th>\n",
              "      <td>Afghanistan</td>\n",
              "      <td>AFG</td>\n",
              "      <td>Asia</td>\n",
              "      <td>Southern Asia</td>\n",
              "      <td>1962</td>\n",
              "      <td>9351442.0</td>\n",
              "      <td>542383636.0</td>\n",
              "      <td>58.0</td>\n",
              "      <td>NaN</td>\n",
              "      <td>4.878051</td>\n",
              "      <td>NaN</td>\n",
              "      <td>NaN</td>\n",
              "      <td>NaN</td>\n",
              "      <td>AFG</td>\n",
              "      <td>Asia</td>\n",
              "      <td>Southern Asia</td>\n",
              "      <td>0.689</td>\n",
              "      <td>0.198</td>\n",
              "      <td>0.074</td>\n",
              "      <td>0.01</td>\n",
              "      <td>0.052</td>\n",
              "      <td>NaN</td>\n",
              "      <td>NaN</td>\n",
              "      <td>NaN</td>\n",
              "      <td>NaN</td>\n",
              "      <td>NaN</td>\n",
              "    </tr>\n",
              "    <tr>\n",
              "      <th>3</th>\n",
              "      <td>Afghanistan</td>\n",
              "      <td>AFG</td>\n",
              "      <td>Asia</td>\n",
              "      <td>Southern Asia</td>\n",
              "      <td>1963</td>\n",
              "      <td>9543200.0</td>\n",
              "      <td>753912800.0</td>\n",
              "      <td>79.0</td>\n",
              "      <td>NaN</td>\n",
              "      <td>9.171601</td>\n",
              "      <td>NaN</td>\n",
              "      <td>NaN</td>\n",
              "      <td>NaN</td>\n",
              "      <td>AFG</td>\n",
              "      <td>Asia</td>\n",
              "      <td>Southern Asia</td>\n",
              "      <td>0.707</td>\n",
              "      <td>0.018</td>\n",
              "      <td>0.074</td>\n",
              "      <td>0.01</td>\n",
              "      <td>0.052</td>\n",
              "      <td>NaN</td>\n",
              "      <td>NaN</td>\n",
              "      <td>NaN</td>\n",
              "      <td>NaN</td>\n",
              "      <td>NaN</td>\n",
              "    </tr>\n",
              "    <tr>\n",
              "      <th>4</th>\n",
              "      <td>Afghanistan</td>\n",
              "      <td>AFG</td>\n",
              "      <td>Asia</td>\n",
              "      <td>Southern Asia</td>\n",
              "      <td>1964</td>\n",
              "      <td>9744772.0</td>\n",
              "      <td>799071304.0</td>\n",
              "      <td>82.0</td>\n",
              "      <td>NaN</td>\n",
              "      <td>8.888893</td>\n",
              "      <td>NaN</td>\n",
              "      <td>NaN</td>\n",
              "      <td>NaN</td>\n",
              "      <td>AFG</td>\n",
              "      <td>Asia</td>\n",
              "      <td>Southern Asia</td>\n",
              "      <td>0.839</td>\n",
              "      <td>0.132</td>\n",
              "      <td>0.086</td>\n",
              "      <td>0.01</td>\n",
              "      <td>0.060</td>\n",
              "      <td>NaN</td>\n",
              "      <td>NaN</td>\n",
              "      <td>NaN</td>\n",
              "      <td>NaN</td>\n",
              "      <td>NaN</td>\n",
              "    </tr>\n",
              "    <tr>\n",
              "      <th>...</th>\n",
              "      <td>...</td>\n",
              "      <td>...</td>\n",
              "      <td>...</td>\n",
              "      <td>...</td>\n",
              "      <td>...</td>\n",
              "      <td>...</td>\n",
              "      <td>...</td>\n",
              "      <td>...</td>\n",
              "      <td>...</td>\n",
              "      <td>...</td>\n",
              "      <td>...</td>\n",
              "      <td>...</td>\n",
              "      <td>...</td>\n",
              "      <td>...</td>\n",
              "      <td>...</td>\n",
              "      <td>...</td>\n",
              "      <td>...</td>\n",
              "      <td>...</td>\n",
              "      <td>...</td>\n",
              "      <td>...</td>\n",
              "      <td>...</td>\n",
              "      <td>...</td>\n",
              "      <td>...</td>\n",
              "      <td>...</td>\n",
              "      <td>...</td>\n",
              "      <td>...</td>\n",
              "    </tr>\n",
              "    <tr>\n",
              "      <th>28774</th>\n",
              "      <td>Zimbabwe</td>\n",
              "      <td>ZWE</td>\n",
              "      <td>Africa</td>\n",
              "      <td>Sub-Saharan Africa</td>\n",
              "      <td>2096</td>\n",
              "      <td>30940779.0</td>\n",
              "      <td>NaN</td>\n",
              "      <td>NaN</td>\n",
              "      <td>NaN</td>\n",
              "      <td>NaN</td>\n",
              "      <td>NaN</td>\n",
              "      <td>NaN</td>\n",
              "      <td>NaN</td>\n",
              "      <td>NaN</td>\n",
              "      <td>NaN</td>\n",
              "      <td>NaN</td>\n",
              "      <td>NaN</td>\n",
              "      <td>NaN</td>\n",
              "      <td>NaN</td>\n",
              "      <td>NaN</td>\n",
              "      <td>NaN</td>\n",
              "      <td>NaN</td>\n",
              "      <td>NaN</td>\n",
              "      <td>NaN</td>\n",
              "      <td>NaN</td>\n",
              "      <td>NaN</td>\n",
              "    </tr>\n",
              "    <tr>\n",
              "      <th>28775</th>\n",
              "      <td>Zimbabwe</td>\n",
              "      <td>ZWE</td>\n",
              "      <td>Africa</td>\n",
              "      <td>Sub-Saharan Africa</td>\n",
              "      <td>2097</td>\n",
              "      <td>30952208.0</td>\n",
              "      <td>NaN</td>\n",
              "      <td>NaN</td>\n",
              "      <td>NaN</td>\n",
              "      <td>NaN</td>\n",
              "      <td>NaN</td>\n",
              "      <td>NaN</td>\n",
              "      <td>NaN</td>\n",
              "      <td>NaN</td>\n",
              "      <td>NaN</td>\n",
              "      <td>NaN</td>\n",
              "      <td>NaN</td>\n",
              "      <td>NaN</td>\n",
              "      <td>NaN</td>\n",
              "      <td>NaN</td>\n",
              "      <td>NaN</td>\n",
              "      <td>NaN</td>\n",
              "      <td>NaN</td>\n",
              "      <td>NaN</td>\n",
              "      <td>NaN</td>\n",
              "      <td>NaN</td>\n",
              "    </tr>\n",
              "    <tr>\n",
              "      <th>28776</th>\n",
              "      <td>Zimbabwe</td>\n",
              "      <td>ZWE</td>\n",
              "      <td>Africa</td>\n",
              "      <td>Sub-Saharan Africa</td>\n",
              "      <td>2098</td>\n",
              "      <td>30959811.0</td>\n",
              "      <td>NaN</td>\n",
              "      <td>NaN</td>\n",
              "      <td>NaN</td>\n",
              "      <td>NaN</td>\n",
              "      <td>NaN</td>\n",
              "      <td>NaN</td>\n",
              "      <td>NaN</td>\n",
              "      <td>NaN</td>\n",
              "      <td>NaN</td>\n",
              "      <td>NaN</td>\n",
              "      <td>NaN</td>\n",
              "      <td>NaN</td>\n",
              "      <td>NaN</td>\n",
              "      <td>NaN</td>\n",
              "      <td>NaN</td>\n",
              "      <td>NaN</td>\n",
              "      <td>NaN</td>\n",
              "      <td>NaN</td>\n",
              "      <td>NaN</td>\n",
              "      <td>NaN</td>\n",
              "    </tr>\n",
              "    <tr>\n",
              "      <th>28777</th>\n",
              "      <td>Zimbabwe</td>\n",
              "      <td>ZWE</td>\n",
              "      <td>Africa</td>\n",
              "      <td>Sub-Saharan Africa</td>\n",
              "      <td>2099</td>\n",
              "      <td>30964052.0</td>\n",
              "      <td>NaN</td>\n",
              "      <td>NaN</td>\n",
              "      <td>NaN</td>\n",
              "      <td>NaN</td>\n",
              "      <td>NaN</td>\n",
              "      <td>NaN</td>\n",
              "      <td>NaN</td>\n",
              "      <td>NaN</td>\n",
              "      <td>NaN</td>\n",
              "      <td>NaN</td>\n",
              "      <td>NaN</td>\n",
              "      <td>NaN</td>\n",
              "      <td>NaN</td>\n",
              "      <td>NaN</td>\n",
              "      <td>NaN</td>\n",
              "      <td>NaN</td>\n",
              "      <td>NaN</td>\n",
              "      <td>NaN</td>\n",
              "      <td>NaN</td>\n",
              "      <td>NaN</td>\n",
              "    </tr>\n",
              "    <tr>\n",
              "      <th>28778</th>\n",
              "      <td>Zimbabwe</td>\n",
              "      <td>ZWE</td>\n",
              "      <td>Africa</td>\n",
              "      <td>Sub-Saharan Africa</td>\n",
              "      <td>2100</td>\n",
              "      <td>30965421.0</td>\n",
              "      <td>NaN</td>\n",
              "      <td>NaN</td>\n",
              "      <td>NaN</td>\n",
              "      <td>NaN</td>\n",
              "      <td>NaN</td>\n",
              "      <td>NaN</td>\n",
              "      <td>NaN</td>\n",
              "      <td>NaN</td>\n",
              "      <td>NaN</td>\n",
              "      <td>NaN</td>\n",
              "      <td>NaN</td>\n",
              "      <td>NaN</td>\n",
              "      <td>NaN</td>\n",
              "      <td>NaN</td>\n",
              "      <td>NaN</td>\n",
              "      <td>NaN</td>\n",
              "      <td>NaN</td>\n",
              "      <td>NaN</td>\n",
              "      <td>NaN</td>\n",
              "      <td>NaN</td>\n",
              "    </tr>\n",
              "  </tbody>\n",
              "</table>\n",
              "<p>28779 rows × 26 columns</p>\n",
              "</div>"
            ],
            "text/plain": [
              "           country iso_alpha3_x  ... energy_per_capita energy_per_gdp\n",
              "0      Afghanistan          AFG  ...               NaN            NaN\n",
              "1      Afghanistan          AFG  ...               NaN            NaN\n",
              "2      Afghanistan          AFG  ...               NaN            NaN\n",
              "3      Afghanistan          AFG  ...               NaN            NaN\n",
              "4      Afghanistan          AFG  ...               NaN            NaN\n",
              "...            ...          ...  ...               ...            ...\n",
              "28774     Zimbabwe          ZWE  ...               NaN            NaN\n",
              "28775     Zimbabwe          ZWE  ...               NaN            NaN\n",
              "28776     Zimbabwe          ZWE  ...               NaN            NaN\n",
              "28777     Zimbabwe          ZWE  ...               NaN            NaN\n",
              "28778     Zimbabwe          ZWE  ...               NaN            NaN\n",
              "\n",
              "[28779 rows x 26 columns]"
            ]
          },
          "metadata": {},
          "execution_count": 24
        }
      ]
    },
    {
      "cell_type": "code",
      "metadata": {
        "id": "6H0xeLQfHuc_"
      },
      "source": [
        ""
      ],
      "execution_count": null,
      "outputs": []
    }
  ]
}