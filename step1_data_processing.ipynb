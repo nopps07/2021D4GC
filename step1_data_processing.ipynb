{
 "cells": [
  {
   "cell_type": "code",
   "execution_count": 3,
   "metadata": {},
   "outputs": [],
   "source": [
    "import xarray as xr"
   ]
  },
  {
   "cell_type": "code",
   "execution_count": 1,
   "metadata": {},
   "outputs": [],
   "source": [
    "file1 = 'data/CMIP6/Evaporation including sublimation and transpiration SSP460.nc'"
   ]
  },
  {
   "cell_type": "markdown",
   "metadata": {},
   "source": [
    "### How to convert NC file to CSV file"
   ]
  },
  {
   "cell_type": "code",
   "execution_count": 20,
   "metadata": {},
   "outputs": [],
   "source": [
    "nc = xr.open_dataset(file1)\n",
    "file1_ndf = nc.to_dataframe()\n",
    "file1_ndf.reset_index(inplace=True)\n",
    "file1_ndf1 = file1_ndf[(ndf['axis_nbounds']==1)]"
   ]
  },
  {
   "cell_type": "code",
   "execution_count": 24,
   "metadata": {},
   "outputs": [
    {
     "data": {
      "text/html": [
       "<div>\n",
       "<style scoped>\n",
       "    .dataframe tbody tr th:only-of-type {\n",
       "        vertical-align: middle;\n",
       "    }\n",
       "\n",
       "    .dataframe tbody tr th {\n",
       "        vertical-align: top;\n",
       "    }\n",
       "\n",
       "    .dataframe thead th {\n",
       "        text-align: right;\n",
       "    }\n",
       "</style>\n",
       "<table border=\"1\" class=\"dataframe\">\n",
       "  <thead>\n",
       "    <tr style=\"text-align: right;\">\n",
       "      <th></th>\n",
       "      <th>lat</th>\n",
       "      <th>lon</th>\n",
       "      <th>time</th>\n",
       "      <th>axis_nbounds</th>\n",
       "      <th>time_bounds</th>\n",
       "      <th>evspsbl</th>\n",
       "    </tr>\n",
       "  </thead>\n",
       "  <tbody>\n",
       "    <tr>\n",
       "      <th>1</th>\n",
       "      <td>-90.0</td>\n",
       "      <td>0.0</td>\n",
       "      <td>2015-01-16 12:00:00</td>\n",
       "      <td>1</td>\n",
       "      <td>2015-02-01</td>\n",
       "      <td>-9.172918e-08</td>\n",
       "    </tr>\n",
       "    <tr>\n",
       "      <th>3</th>\n",
       "      <td>-90.0</td>\n",
       "      <td>0.0</td>\n",
       "      <td>2015-02-15 00:00:00</td>\n",
       "      <td>1</td>\n",
       "      <td>2015-03-01</td>\n",
       "      <td>-1.285175e-07</td>\n",
       "    </tr>\n",
       "    <tr>\n",
       "      <th>5</th>\n",
       "      <td>-90.0</td>\n",
       "      <td>0.0</td>\n",
       "      <td>2015-03-16 12:00:00</td>\n",
       "      <td>1</td>\n",
       "      <td>2015-04-01</td>\n",
       "      <td>-5.179413e-08</td>\n",
       "    </tr>\n",
       "    <tr>\n",
       "      <th>7</th>\n",
       "      <td>-90.0</td>\n",
       "      <td>0.0</td>\n",
       "      <td>2015-04-16 00:00:00</td>\n",
       "      <td>1</td>\n",
       "      <td>2015-05-01</td>\n",
       "      <td>-4.540163e-08</td>\n",
       "    </tr>\n",
       "    <tr>\n",
       "      <th>9</th>\n",
       "      <td>-90.0</td>\n",
       "      <td>0.0</td>\n",
       "      <td>2015-05-16 12:00:00</td>\n",
       "      <td>1</td>\n",
       "      <td>2015-06-01</td>\n",
       "      <td>-3.005713e-08</td>\n",
       "    </tr>\n",
       "  </tbody>\n",
       "</table>\n",
       "</div>"
      ],
      "text/plain": [
       "    lat  lon                time  axis_nbounds time_bounds       evspsbl\n",
       "1 -90.0  0.0 2015-01-16 12:00:00             1  2015-02-01 -9.172918e-08\n",
       "3 -90.0  0.0 2015-02-15 00:00:00             1  2015-03-01 -1.285175e-07\n",
       "5 -90.0  0.0 2015-03-16 12:00:00             1  2015-04-01 -5.179413e-08\n",
       "7 -90.0  0.0 2015-04-16 00:00:00             1  2015-05-01 -4.540163e-08\n",
       "9 -90.0  0.0 2015-05-16 12:00:00             1  2015-06-01 -3.005713e-08"
      ]
     },
     "execution_count": 24,
     "metadata": {},
     "output_type": "execute_result"
    }
   ],
   "source": [
    "file1_ndf1.head()"
   ]
  },
  {
   "cell_type": "code",
   "execution_count": 27,
   "metadata": {},
   "outputs": [
    {
     "data": {
      "text/html": [
       "<div>\n",
       "<style scoped>\n",
       "    .dataframe tbody tr th:only-of-type {\n",
       "        vertical-align: middle;\n",
       "    }\n",
       "\n",
       "    .dataframe tbody tr th {\n",
       "        vertical-align: top;\n",
       "    }\n",
       "\n",
       "    .dataframe thead th {\n",
       "        text-align: right;\n",
       "    }\n",
       "</style>\n",
       "<table border=\"1\" class=\"dataframe\">\n",
       "  <thead>\n",
       "    <tr style=\"text-align: right;\">\n",
       "      <th></th>\n",
       "      <th>lat</th>\n",
       "      <th>lon</th>\n",
       "      <th>evspsbl</th>\n",
       "    </tr>\n",
       "    <tr>\n",
       "      <th>time</th>\n",
       "      <th></th>\n",
       "      <th></th>\n",
       "      <th></th>\n",
       "    </tr>\n",
       "  </thead>\n",
       "  <tbody>\n",
       "    <tr>\n",
       "      <th>2015-01-16 12:00:00</th>\n",
       "      <td>-90.0</td>\n",
       "      <td>0.0</td>\n",
       "      <td>-9.172918e-08</td>\n",
       "    </tr>\n",
       "    <tr>\n",
       "      <th>2015-02-15 00:00:00</th>\n",
       "      <td>-90.0</td>\n",
       "      <td>0.0</td>\n",
       "      <td>-1.285175e-07</td>\n",
       "    </tr>\n",
       "    <tr>\n",
       "      <th>2015-03-16 12:00:00</th>\n",
       "      <td>-90.0</td>\n",
       "      <td>0.0</td>\n",
       "      <td>-5.179413e-08</td>\n",
       "    </tr>\n",
       "    <tr>\n",
       "      <th>2015-04-16 00:00:00</th>\n",
       "      <td>-90.0</td>\n",
       "      <td>0.0</td>\n",
       "      <td>-4.540163e-08</td>\n",
       "    </tr>\n",
       "    <tr>\n",
       "      <th>2015-05-16 12:00:00</th>\n",
       "      <td>-90.0</td>\n",
       "      <td>0.0</td>\n",
       "      <td>-3.005713e-08</td>\n",
       "    </tr>\n",
       "    <tr>\n",
       "      <th>...</th>\n",
       "      <td>...</td>\n",
       "      <td>...</td>\n",
       "      <td>...</td>\n",
       "    </tr>\n",
       "    <tr>\n",
       "      <th>2100-08-16 12:00:00</th>\n",
       "      <td>90.0</td>\n",
       "      <td>357.5</td>\n",
       "      <td>8.085839e-06</td>\n",
       "    </tr>\n",
       "    <tr>\n",
       "      <th>2100-09-16 00:00:00</th>\n",
       "      <td>90.0</td>\n",
       "      <td>357.5</td>\n",
       "      <td>1.180059e-05</td>\n",
       "    </tr>\n",
       "    <tr>\n",
       "      <th>2100-10-16 12:00:00</th>\n",
       "      <td>90.0</td>\n",
       "      <td>357.5</td>\n",
       "      <td>1.751463e-05</td>\n",
       "    </tr>\n",
       "    <tr>\n",
       "      <th>2100-11-16 00:00:00</th>\n",
       "      <td>90.0</td>\n",
       "      <td>357.5</td>\n",
       "      <td>7.299916e-06</td>\n",
       "    </tr>\n",
       "    <tr>\n",
       "      <th>2100-12-16 12:00:00</th>\n",
       "      <td>90.0</td>\n",
       "      <td>357.5</td>\n",
       "      <td>1.027785e-05</td>\n",
       "    </tr>\n",
       "  </tbody>\n",
       "</table>\n",
       "<p>21250944 rows × 3 columns</p>\n",
       "</div>"
      ],
      "text/plain": [
       "                      lat    lon       evspsbl\n",
       "time                                          \n",
       "2015-01-16 12:00:00 -90.0    0.0 -9.172918e-08\n",
       "2015-02-15 00:00:00 -90.0    0.0 -1.285175e-07\n",
       "2015-03-16 12:00:00 -90.0    0.0 -5.179413e-08\n",
       "2015-04-16 00:00:00 -90.0    0.0 -4.540163e-08\n",
       "2015-05-16 12:00:00 -90.0    0.0 -3.005713e-08\n",
       "...                   ...    ...           ...\n",
       "2100-08-16 12:00:00  90.0  357.5  8.085839e-06\n",
       "2100-09-16 00:00:00  90.0  357.5  1.180059e-05\n",
       "2100-10-16 12:00:00  90.0  357.5  1.751463e-05\n",
       "2100-11-16 00:00:00  90.0  357.5  7.299916e-06\n",
       "2100-12-16 12:00:00  90.0  357.5  1.027785e-05\n",
       "\n",
       "[21250944 rows x 3 columns]"
      ]
     },
     "execution_count": 27,
     "metadata": {},
     "output_type": "execute_result"
    }
   ],
   "source": [
    "file1_ndf_select_cols = ['lat', 'lon', 'time', 'evspsbl']\n",
    "\n",
    "pdf1 = file1_ndf1[file1_ndf_select_cols]\n",
    "pdf1.set_index('time')"
   ]
  },
  {
   "cell_type": "code",
   "execution_count": 62,
   "metadata": {},
   "outputs": [],
   "source": [
    "file1_ndf1.to_csv(\"Evaporation including sublimation and transpiration SSP460.csv\")"
   ]
  }
 ],
 "metadata": {
  "kernelspec": {
   "display_name": "Python 3",
   "language": "python",
   "name": "python3"
  },
  "language_info": {
   "codemirror_mode": {
    "name": "ipython",
    "version": 3
   },
   "file_extension": ".py",
   "mimetype": "text/x-python",
   "name": "python",
   "nbconvert_exporter": "python",
   "pygments_lexer": "ipython3",
   "version": "3.8.5"
  },
  "toc": {
   "base_numbering": 1,
   "nav_menu": {},
   "number_sections": true,
   "sideBar": true,
   "skip_h1_title": false,
   "title_cell": "Table of Contents",
   "title_sidebar": "Contents",
   "toc_cell": false,
   "toc_position": {},
   "toc_section_display": true,
   "toc_window_display": false
  },
  "varInspector": {
   "cols": {
    "lenName": 16,
    "lenType": 16,
    "lenVar": 40
   },
   "kernels_config": {
    "python": {
     "delete_cmd_postfix": "",
     "delete_cmd_prefix": "del ",
     "library": "var_list.py",
     "varRefreshCmd": "print(var_dic_list())"
    },
    "r": {
     "delete_cmd_postfix": ") ",
     "delete_cmd_prefix": "rm(",
     "library": "var_list.r",
     "varRefreshCmd": "cat(var_dic_list()) "
    }
   },
   "types_to_exclude": [
    "module",
    "function",
    "builtin_function_or_method",
    "instance",
    "_Feature"
   ],
   "window_display": false
  }
 },
 "nbformat": 4,
 "nbformat_minor": 5
}
